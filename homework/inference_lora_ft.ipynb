{
 "cells": [
  {
   "cell_type": "markdown",
   "id": "6a35e2c3-c05d-433b-9b98-d49011780b30",
   "metadata": {},
   "source": [
    "#### 测试lora finetune效果 (已finetune 10000 steps，每1000 steps 测试一次)"
   ]
  },
  {
   "cell_type": "markdown",
   "id": "d62aad0e-93d0-447e-b99d-edb4bcd06791",
   "metadata": {},
   "source": [
    "训练总结：\n",
    "<br>1.训练了10000 steps，约0.35 epoch。\n",
    "<br>2.train loss在开始时快速下降。在前100个steps内，迅速从4.8左右下降到3.7左右。\n",
    "<br>3.train loss从3.7开始，缓慢下降，在训练了4000 steps后，整体在3.4左右。\n",
    "<br>4.从4000 steps到10000 steps，train loss的下降趋势非常平缓，整体表现为震荡。\n",
    "<br>5.在8000 steps后，train loss整体在3.4以下，有约一半的情况在3.3以下，偶尔出现3.0和3.1的情况。\n",
    "\n",
    "<br>广告效果总结：\n",
    "<br>1.整体感觉，在广告输出的文笔方面，没有看到显著提高。\n",
    "<br>2.在无微调时，偶尔出现英文单词，但之后未出现。\n",
    "<br>3.时而出现异常情况，反复重复一句话(见steps 8000)。"
   ]
  },
  {
   "cell_type": "markdown",
   "id": "605b2fee-2a82-4b3e-a3af-20ad7bba6f5d",
   "metadata": {},
   "source": [
    "0. 无微调"
   ]
  },
  {
   "cell_type": "code",
   "execution_count": 1,
   "id": "19fef227-8702-495b-8070-fed05fce3b85",
   "metadata": {},
   "outputs": [
    {
     "name": "stdout",
     "output_type": "stream",
     "text": [
      "/usr/local/lib/python3.10/dist-packages/transformers/utils/hub.py:124: FutureWarning: Using `TRANSFORMERS_CACHE` is deprecated and will be removed in v5 of Transformers. Use `HF_HOME` instead.\n",
      "  warnings.warn(\n",
      "Loading checkpoint shards: 100%|██████████████████| 7/7 [00:02<00:00,  2.99it/s]\n",
      "Setting eos_token is not supported, use the default one.\n",
      "Setting pad_token is not supported, use the default one.\n",
      "Setting unk_token is not supported, use the default one.\n",
      "这款性感的网纱百褶连衣裙，采用了显瘦的版型设计，材质为网纱，风格独特。裙下摆为压褶设计，长度适中，门襟为拉链设计， both 前后裙衣都有拉链。衣服为套头设计，拼接和木耳边的设计增添了裙子的美感。同时，抽褶和不规则的设计使这款裙子更加别致。\n"
     ]
    }
   ],
   "source": [
    "! python3 inference_hf.py /home/abc/mydisk/model/chatglm3-6b/ --prompt \"类型#裙*版型#显瘦*材质#网纱*风格#性感*裙型#百褶*裙下摆#压褶*裙长#连衣裙*裙衣门襟#拉链*裙衣门襟#套头*裙款式#拼接*裙款式#拉链*裙款式#木耳边*裙款式#抽褶*裙款式#不规则\""
   ]
  },
  {
   "cell_type": "markdown",
   "id": "012d712e-149b-4732-a0ba-619f5f5fe117",
   "metadata": {},
   "source": [
    "1. 1000 steps"
   ]
  },
  {
   "cell_type": "code",
   "execution_count": 2,
   "id": "8833adc8-d591-493b-a91e-a96007509815",
   "metadata": {},
   "outputs": [
    {
     "name": "stdout",
     "output_type": "stream",
     "text": [
      "/usr/local/lib/python3.10/dist-packages/transformers/utils/hub.py:124: FutureWarning: Using `TRANSFORMERS_CACHE` is deprecated and will be removed in v5 of Transformers. Use `HF_HOME` instead.\n",
      "  warnings.warn(\n",
      "Loading checkpoint shards: 100%|██████████████████| 7/7 [00:02<00:00,  2.98it/s]\n",
      "Setting eos_token is not supported, use the default one.\n",
      "Setting pad_token is not supported, use the default one.\n",
      "Setting unk_token is not supported, use the default one.\n",
      "这款连衣裙是经典的百褶裙款式，不规则的裙摆设计，上身效果非常显瘦。领口是拉链的设计，很方便穿脱，拉链位置是木耳边的设计，增加整体的设计感，也更具性感。袖口是网纱拼接，增加整体的设计感，袖口是网纱的，很轻薄，穿上之后很透，显得很性感。裙身是套头的设计，很方便穿脱，不费力。\n"
     ]
    }
   ],
   "source": [
    "! python3 inference_hf.py /home/abc/mydisk/model/chatglm3-6b/output/checkpoint-1000/ --prompt \"类型#裙*版型#显瘦*材质#网纱*风格#性感*裙型#百褶*裙下摆#压褶*裙长#连衣裙*裙衣门襟#拉链*裙衣门襟#套头*裙款式#拼接*裙款式#拉链*裙款式#木耳边*裙款式#抽褶*裙款式#不规则\""
   ]
  },
  {
   "cell_type": "markdown",
   "id": "ea8b9dc6-9797-472e-81e5-acb8880f3fcf",
   "metadata": {},
   "source": [
    "2. 2000 steps"
   ]
  },
  {
   "cell_type": "code",
   "execution_count": 3,
   "id": "1cf31ab1-c829-46fb-a522-bc7a228b494e",
   "metadata": {},
   "outputs": [
    {
     "name": "stdout",
     "output_type": "stream",
     "text": [
      "/usr/local/lib/python3.10/dist-packages/transformers/utils/hub.py:124: FutureWarning: Using `TRANSFORMERS_CACHE` is deprecated and will be removed in v5 of Transformers. Use `HF_HOME` instead.\n",
      "  warnings.warn(\n",
      "Loading checkpoint shards: 100%|██████████████████| 7/7 [00:02<00:00,  2.94it/s]\n",
      "Setting eos_token is not supported, use the default one.\n",
      "Setting pad_token is not supported, use the default one.\n",
      "Setting unk_token is not supported, use the default one.\n",
      "时尚的套头连衣裙，采用不规则的拼接设计，时尚性感的气息，瞬间吸引眼球。而领口采用拼接网纱设计，性感又大气。而衣身采用木耳边点缀，尽显女性优雅，搭配上不规则的压褶设计，修饰身形，展现女性性感魅力。而袖口和裙摆采用拉链设计，方便穿脱，穿着方便又舒适。\n"
     ]
    }
   ],
   "source": [
    "! python3 inference_hf.py /home/abc/mydisk/model/chatglm3-6b/output/checkpoint-2000/ --prompt \"类型#裙*版型#显瘦*材质#网纱*风格#性感*裙型#百褶*裙下摆#压褶*裙长#连衣裙*裙衣门襟#拉链*裙衣门襟#套头*裙款式#拼接*裙款式#拉链*裙款式#木耳边*裙款式#抽褶*裙款式#不规则\""
   ]
  },
  {
   "cell_type": "markdown",
   "id": "74b626da-c78b-4578-91d8-9cc6d5bb6314",
   "metadata": {},
   "source": [
    "3. 3000 steps"
   ]
  },
  {
   "cell_type": "code",
   "execution_count": 4,
   "id": "a77a408d-aa08-4cf9-a190-10e4ab35b6b5",
   "metadata": {},
   "outputs": [
    {
     "name": "stdout",
     "output_type": "stream",
     "text": [
      "/usr/local/lib/python3.10/dist-packages/transformers/utils/hub.py:124: FutureWarning: Using `TRANSFORMERS_CACHE` is deprecated and will be removed in v5 of Transformers. Use `HF_HOME` instead.\n",
      "  warnings.warn(\n",
      "Loading checkpoint shards: 100%|██████████████████| 7/7 [00:02<00:00,  2.93it/s]\n",
      "Setting eos_token is not supported, use the default one.\n",
      "Setting pad_token is not supported, use the default one.\n",
      "Setting unk_token is not supported, use the default one.\n",
      "网纱拼接的连衣裙，别致时尚，百褶的版型，显瘦效果极佳，整体上十分有层次感，加上木耳边和抽褶的工艺，细节上非常精致，而套头的设计，方便穿脱，而拉链的装饰，增添性感魅力，不规则的拼接，打破单调，更显时尚。\n"
     ]
    }
   ],
   "source": [
    "! python3 inference_hf.py /home/abc/mydisk/model/chatglm3-6b/output/checkpoint-3000/ --prompt \"类型#裙*版型#显瘦*材质#网纱*风格#性感*裙型#百褶*裙下摆#压褶*裙长#连衣裙*裙衣门襟#拉链*裙衣门襟#套头*裙款式#拼接*裙款式#拉链*裙款式#木耳边*裙款式#抽褶*裙款式#不规则\""
   ]
  },
  {
   "cell_type": "markdown",
   "id": "a8bae204-c2dc-4119-bb47-f265973cd36f",
   "metadata": {},
   "source": [
    "4. 4000 steps"
   ]
  },
  {
   "cell_type": "code",
   "execution_count": 5,
   "id": "2c7df517-3e2e-4439-bc44-1c259d29e6f8",
   "metadata": {},
   "outputs": [
    {
     "name": "stdout",
     "output_type": "stream",
     "text": [
      "/usr/local/lib/python3.10/dist-packages/transformers/utils/hub.py:124: FutureWarning: Using `TRANSFORMERS_CACHE` is deprecated and will be removed in v5 of Transformers. Use `HF_HOME` instead.\n",
      "  warnings.warn(\n",
      "Loading checkpoint shards: 100%|██████████████████| 7/7 [00:02<00:00,  3.23it/s]\n",
      "Setting eos_token is not supported, use the default one.\n",
      "Setting pad_token is not supported, use the default one.\n",
      "Setting unk_token is not supported, use the default one.\n",
      "这款连衣裙采用不规则的拼接设计，将网纱与木耳边拼接在一起，性感又时尚。压褶的袖口和下摆，增加了层次感，又显瘦。套头拉链的设计，方便穿脱。下摆压褶的设计，又增加了层次感，又显腿长。\n"
     ]
    }
   ],
   "source": [
    "! python3 inference_hf.py /home/abc/mydisk/model/chatglm3-6b/output/checkpoint-4000/ --prompt \"类型#裙*版型#显瘦*材质#网纱*风格#性感*裙型#百褶*裙下摆#压褶*裙长#连衣裙*裙衣门襟#拉链*裙衣门襟#套头*裙款式#拼接*裙款式#拉链*裙款式#木耳边*裙款式#抽褶*裙款式#不规则\""
   ]
  },
  {
   "cell_type": "markdown",
   "id": "620aa9a5-2ecd-4294-8a1b-89da5cf8ab41",
   "metadata": {},
   "source": [
    "5. 5000  steps"
   ]
  },
  {
   "cell_type": "code",
   "execution_count": 6,
   "id": "dd8c795a-afc0-4738-a635-4f5211327c56",
   "metadata": {},
   "outputs": [
    {
     "name": "stdout",
     "output_type": "stream",
     "text": [
      "/usr/local/lib/python3.10/dist-packages/transformers/utils/hub.py:124: FutureWarning: Using `TRANSFORMERS_CACHE` is deprecated and will be removed in v5 of Transformers. Use `HF_HOME` instead.\n",
      "  warnings.warn(\n",
      "Loading checkpoint shards: 100%|██████████████████| 7/7 [00:02<00:00,  3.22it/s]\n",
      "Setting eos_token is not supported, use the default one.\n",
      "Setting pad_token is not supported, use the default one.\n",
      "Setting unk_token is not supported, use the default one.\n",
      "这款连衣裙的压褶设计，不规则的压褶处理，不规则的裙摆，别致而别致，别致而优雅。套头的设计，方便穿脱，不规则的拼接设计，别致而时尚。加上木耳边的设计，精致而精致，优雅而优雅。裙身网纱的拼接，性感而性感，性感而优雅。拉链的设计，方便穿脱，优雅而优雅。\n"
     ]
    }
   ],
   "source": [
    "! python3 inference_hf.py /home/abc/mydisk/model/chatglm3-6b/output/checkpoint-5000/ --prompt \"类型#裙*版型#显瘦*材质#网纱*风格#性感*裙型#百褶*裙下摆#压褶*裙长#连衣裙*裙衣门襟#拉链*裙衣门襟#套头*裙款式#拼接*裙款式#拉链*裙款式#木耳边*裙款式#抽褶*裙款式#不规则\""
   ]
  },
  {
   "cell_type": "markdown",
   "id": "01381775-6242-4c6a-87f3-0aaa7021f47a",
   "metadata": {},
   "source": [
    "6. 6000 steps"
   ]
  },
  {
   "cell_type": "code",
   "execution_count": 7,
   "id": "62946326-4e85-4718-bea7-479adbeecb68",
   "metadata": {},
   "outputs": [
    {
     "name": "stdout",
     "output_type": "stream",
     "text": [
      "/usr/local/lib/python3.10/dist-packages/transformers/utils/hub.py:124: FutureWarning: Using `TRANSFORMERS_CACHE` is deprecated and will be removed in v5 of Transformers. Use `HF_HOME` instead.\n",
      "  warnings.warn(\n",
      "Loading checkpoint shards: 100%|██████████████████| 7/7 [00:02<00:00,  2.99it/s]\n",
      "Setting eos_token is not supported, use the default one.\n",
      "Setting pad_token is not supported, use the default one.\n",
      "Setting unk_token is not supported, use the default one.\n",
      "优雅的套头连衣裙，领口处套头设计，穿着方便，不会束缚。下摆采用百褶拼接，不规则的压褶设计，增添时尚气息。前片采用木耳边点缀，优雅大气，更显性感。裙身采用网纱拼接，更显层次感。下摆采用不规则的压褶设计，显瘦效果更佳，穿着更显瘦。\n"
     ]
    }
   ],
   "source": [
    "! python3 inference_hf.py /home/abc/mydisk/model/chatglm3-6b/output/checkpoint-6000/ --prompt \"类型#裙*版型#显瘦*材质#网纱*风格#性感*裙型#百褶*裙下摆#压褶*裙长#连衣裙*裙衣门襟#拉链*裙衣门襟#套头*裙款式#拼接*裙款式#拉链*裙款式#木耳边*裙款式#抽褶*裙款式#不规则\""
   ]
  },
  {
   "cell_type": "markdown",
   "id": "be2290a2-7900-4610-b3aa-fdf838aad32c",
   "metadata": {},
   "source": [
    "7. 7000 steps"
   ]
  },
  {
   "cell_type": "code",
   "execution_count": 8,
   "id": "c76a47b1-c83e-483c-a110-bdd2c8df23c5",
   "metadata": {},
   "outputs": [
    {
     "name": "stdout",
     "output_type": "stream",
     "text": [
      "/usr/local/lib/python3.10/dist-packages/transformers/utils/hub.py:124: FutureWarning: Using `TRANSFORMERS_CACHE` is deprecated and will be removed in v5 of Transformers. Use `HF_HOME` instead.\n",
      "  warnings.warn(\n",
      "Loading checkpoint shards: 100%|██████████████████| 7/7 [00:02<00:00,  3.23it/s]\n",
      "Setting eos_token is not supported, use the default one.\n",
      "Setting pad_token is not supported, use the default one.\n",
      "Setting unk_token is not supported, use the default one.\n",
      "这款连衣裙采用百褶压褶的网纱面料，不规则的拼接设计，视觉上更加立体感。袖口和裙摆部分采用木耳边点缀，增添女性柔美的气质，袖口套头拉链设计，方便穿脱，穿着舒适不紧绷。裙身采用不规则的压褶设计，视觉上更显修身显瘦，穿着更显优雅。\n"
     ]
    }
   ],
   "source": [
    "! python3 inference_hf.py /home/abc/mydisk/model/chatglm3-6b/output/checkpoint-7000/ --prompt \"类型#裙*版型#显瘦*材质#网纱*风格#性感*裙型#百褶*裙下摆#压褶*裙长#连衣裙*裙衣门襟#拉链*裙衣门襟#套头*裙款式#拼接*裙款式#拉链*裙款式#木耳边*裙款式#抽褶*裙款式#不规则\""
   ]
  },
  {
   "cell_type": "markdown",
   "id": "2a958af3-3ae2-4b5d-af27-4dcaafcd08be",
   "metadata": {},
   "source": [
    "8. 8000 steps"
   ]
  },
  {
   "cell_type": "code",
   "execution_count": 9,
   "id": "0cf31eac-01aa-4d52-baad-8ba28e8245c9",
   "metadata": {},
   "outputs": [
    {
     "name": "stdout",
     "output_type": "stream",
     "text": [
      "/usr/local/lib/python3.10/dist-packages/transformers/utils/hub.py:124: FutureWarning: Using `TRANSFORMERS_CACHE` is deprecated and will be removed in v5 of Transformers. Use `HF_HOME` instead.\n",
      "  warnings.warn(\n",
      "Loading checkpoint shards: 100%|██████████████████| 7/7 [00:02<00:00,  3.17it/s]\n",
      "Setting eos_token is not supported, use the default one.\n",
      "Setting pad_token is not supported, use the default one.\n",
      "Setting unk_token is not supported, use the default one.\n",
      "这款连衣裙采用优质的面料，舒适透气，穿起来舒适不透视，亲肤柔软，不透视，不缩水，不脱线，百褶不脱线，压褶不脱线，百褶不缩水，不缩水，不脱线，不缩水，不脱线。套头拉链款，不脱线，不脱线，不脱线，不脱线，不脱线，不脱线，不脱线，不脱线，不脱线，不脱线，不脱线，不脱线。不规则拼接，性感优雅，气质优雅，时尚时尚，百褶不脱线，不脱线，不脱线，不脱线，不脱线，不脱线，不脱线，不脱线，不脱线，不脱线，不脱线，不脱线，不脱线。\n"
     ]
    }
   ],
   "source": [
    "! python3 inference_hf.py /home/abc/mydisk/model/chatglm3-6b/output/checkpoint-8000/ --prompt \"类型#裙*版型#显瘦*材质#网纱*风格#性感*裙型#百褶*裙下摆#压褶*裙长#连衣裙*裙衣门襟#拉链*裙衣门襟#套头*裙款式#拼接*裙款式#拉链*裙款式#木耳边*裙款式#抽褶*裙款式#不规则\""
   ]
  },
  {
   "cell_type": "markdown",
   "id": "35fecee0-5420-4a31-8b4b-ca555810ae2e",
   "metadata": {},
   "source": [
    "9. 9000 steps"
   ]
  },
  {
   "cell_type": "code",
   "execution_count": 10,
   "id": "008a1277-d352-4b9f-8bca-b8276cadcf02",
   "metadata": {},
   "outputs": [
    {
     "name": "stdout",
     "output_type": "stream",
     "text": [
      "/usr/local/lib/python3.10/dist-packages/transformers/utils/hub.py:124: FutureWarning: Using `TRANSFORMERS_CACHE` is deprecated and will be removed in v5 of Transformers. Use `HF_HOME` instead.\n",
      "  warnings.warn(\n",
      "Loading checkpoint shards: 100%|██████████████████| 7/7 [00:02<00:00,  2.93it/s]\n",
      "Setting eos_token is not supported, use the default one.\n",
      "Setting pad_token is not supported, use the default one.\n",
      "Setting unk_token is not supported, use the default one.\n",
      "这款连衣裙采用网纱拼接设计，不规则的压褶设计，使得整件连衣裙更具层次感。加上拉链套头设计，穿脱方便，不脱线不脱色，穿着舒适不紧绷。裙身百褶设计，不规则的压褶效果，穿着性感又显瘦。\n"
     ]
    }
   ],
   "source": [
    "! python3 inference_hf.py /home/abc/mydisk/model/chatglm3-6b/output/checkpoint-9000/ --prompt \"类型#裙*版型#显瘦*材质#网纱*风格#性感*裙型#百褶*裙下摆#压褶*裙长#连衣裙*裙衣门襟#拉链*裙衣门襟#套头*裙款式#拼接*裙款式#拉链*裙款式#木耳边*裙款式#抽褶*裙款式#不规则\""
   ]
  },
  {
   "cell_type": "markdown",
   "id": "cf019969-c61d-4ab0-8c39-45e9be81acc4",
   "metadata": {},
   "source": [
    "10. 10000 steps"
   ]
  },
  {
   "cell_type": "code",
   "execution_count": 11,
   "id": "e562bf27-6ac1-4df0-a449-4f38bed5f58d",
   "metadata": {},
   "outputs": [
    {
     "name": "stdout",
     "output_type": "stream",
     "text": [
      "/usr/local/lib/python3.10/dist-packages/transformers/utils/hub.py:124: FutureWarning: Using `TRANSFORMERS_CACHE` is deprecated and will be removed in v5 of Transformers. Use `HF_HOME` instead.\n",
      "  warnings.warn(\n",
      "Loading checkpoint shards: 100%|██████████████████| 7/7 [00:02<00:00,  3.03it/s]\n",
      "Setting eos_token is not supported, use the default one.\n",
      "Setting pad_token is not supported, use the default one.\n",
      "Setting unk_token is not supported, use the default one.\n",
      "这款连衣裙是网纱拼接的，网纱是透视的，穿起来性感又大方，很显气质。袖子是木耳边的设计，不规则的压褶袖子很别致，很显手臂的纤细。袖子是套头的设计，很方便穿脱。裙摆是百褶的，很显瘦，不规则的裙摆很显个性。裙摆是拉链的，很方便穿脱。\n"
     ]
    }
   ],
   "source": [
    "! python3 inference_hf.py /home/abc/mydisk/model/chatglm3-6b/output/checkpoint-10000/ --prompt \"类型#裙*版型#显瘦*材质#网纱*风格#性感*裙型#百褶*裙下摆#压褶*裙长#连衣裙*裙衣门襟#拉链*裙衣门襟#套头*裙款式#拼接*裙款式#拉链*裙款式#木耳边*裙款式#抽褶*裙款式#不规则\""
   ]
  }
 ],
 "metadata": {
  "kernelspec": {
   "display_name": "Python 3 (ipykernel)",
   "language": "python",
   "name": "python3"
  },
  "language_info": {
   "codemirror_mode": {
    "name": "ipython",
    "version": 3
   },
   "file_extension": ".py",
   "mimetype": "text/x-python",
   "name": "python",
   "nbconvert_exporter": "python",
   "pygments_lexer": "ipython3",
   "version": "3.10.12"
  }
 },
 "nbformat": 4,
 "nbformat_minor": 5
}
