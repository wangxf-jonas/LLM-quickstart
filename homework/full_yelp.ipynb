{
 "cells": [
  {
   "cell_type": "markdown",
   "id": "912f3da2-0e63-410f-8014-b104e145834d",
   "metadata": {},
   "source": [
    "## Step1：全局定义"
   ]
  },
  {
   "cell_type": "code",
   "execution_count": 1,
   "id": "9a09bbd4-881c-41cd-8b3b-aff3dfd9ff54",
   "metadata": {},
   "outputs": [
    {
     "name": "stderr",
     "output_type": "stream",
     "text": [
      "C:\\Users\\wangx\\miniconda3\\envs\\peft\\lib\\site-packages\\tqdm\\auto.py:21: TqdmWarning: IProgress not found. Please update jupyter and ipywidgets. See https://ipywidgets.readthedocs.io/en/stable/user_install.html\n",
      "  from .autonotebook import tqdm as notebook_tqdm\n"
     ]
    }
   ],
   "source": [
    "# 各种 import\n",
    "from transformers import pipeline, AutoTokenizer, AutoModelForSequenceClassification, TrainingArguments, Trainer\n",
    "from datasets import load_dataset\n",
    "import numpy as np\n",
    "import evaluate\n",
    "import os"
   ]
  },
  {
   "cell_type": "code",
   "execution_count": 2,
   "id": "13438b35-b2c9-445f-82a9-3d9ebd7733d3",
   "metadata": {},
   "outputs": [
    {
     "name": "stderr",
     "output_type": "stream",
     "text": [
      "Some weights of BertForSequenceClassification were not initialized from the model checkpoint at models/bert-base-cased and are newly initialized: ['classifier.bias', 'classifier.weight']\n",
      "You should probably TRAIN this model on a down-stream task to be able to use it for predictions and inference.\n"
     ]
    }
   ],
   "source": [
    "# 全局变量\n",
    "os.environ['HF_HOME'] = 'E:\\PycharmProjects\\huggingface'\n",
    "os.environ['HF_HUB_CACHE'] = 'E:\\PycharmProjects\\huggingface\\cache'\n",
    "os.environ['HF_ENDPOINT'] = 'https://hf-mirror.com'\n",
    "\n",
    "model_raw_dir = \"models/bert-base-cased\"\n",
    "model_trained_dir = \"models/bert-base-cased-finetune-yelp\"\n",
    "dataset_dir = \"datasets/yelp_review_full\"\n",
    "batch_size = 10\n",
    "\n",
    "tokenizer = AutoTokenizer.from_pretrained(model_raw_dir)\n",
    "model = AutoModelForSequenceClassification.from_pretrained(model_raw_dir, num_labels=5)\n",
    "dataset = load_dataset(dataset_dir)"
   ]
  },
  {
   "cell_type": "code",
   "execution_count": 3,
   "id": "c3bbda0e-7b67-49cf-8930-d32a79b08170",
   "metadata": {},
   "outputs": [],
   "source": [
    "# 数据集预处理\n",
    "def tokenize_function(examples):\n",
    "    return tokenizer(examples[\"text\"], padding=\"max_length\", truncation=True)\n",
    "\n",
    "tokenized_datasets = dataset.map(tokenize_function, batched=True)\n",
    "\n",
    "# train_set = tokenized_datasets[\"train\"].shuffle(seed=42).select(range(100))\n",
    "# test_set = tokenized_datasets[\"test\"].shuffle(seed=42).select(range(100))\n",
    "\n",
    "# 65w条训练数据5w条测试数据\n",
    "train_set = tokenized_datasets[\"train\"]\n",
    "test_set = tokenized_datasets[\"test\"]"
   ]
  },
  {
   "cell_type": "markdown",
   "id": "48a59d35-bbf5-4eb7-9ab0-7c0f2fb738ee",
   "metadata": {},
   "source": [
    "## Step2：开始训练"
   ]
  },
  {
   "cell_type": "code",
   "execution_count": 4,
   "id": "5e226e41-5fa2-4894-b960-afa43617127b",
   "metadata": {},
   "outputs": [],
   "source": [
    "# 加载 evaluate\n",
    "metric = evaluate.load(\"accuracy\")\n",
    "def compute_metrics(eval_pred):\n",
    "    logits, labels = eval_pred\n",
    "    predictions = np.argmax(logits, axis=-1)\n",
    "    return metric.compute(predictions=predictions, references=labels)"
   ]
  },
  {
   "cell_type": "code",
   "execution_count": 5,
   "id": "29d7107d-3546-4e1a-864a-e4413cda0f0a",
   "metadata": {},
   "outputs": [
    {
     "name": "stderr",
     "output_type": "stream",
     "text": [
      "C:\\Users\\wangx\\miniconda3\\envs\\peft\\lib\\site-packages\\transformers\\training_args.py:1474: FutureWarning: `evaluation_strategy` is deprecated and will be removed in version 4.46 of 🤗 Transformers. Use `eval_strategy` instead\n",
      "  warnings.warn(\n"
     ]
    }
   ],
   "source": [
    "# 加载训练参数和训练器\n",
    "# 1个epoch，batchsize=10，需要6.5w steps，1.3w steps评价一次，一共评价5次\n",
    "training_args = TrainingArguments(output_dir=model_trained_dir,\n",
    "                                  evaluation_strategy=\"steps\", \n",
    "                                  per_device_train_batch_size=batch_size,\n",
    "                                  num_train_epochs=1,\n",
    "                                  # logging_strategy=\"epoch\",\n",
    "                                  logging_steps=13000,\n",
    "                                  save_strategy=\"epoch\",\n",
    "                                  overwrite_output_dir = True)\n",
    "\n",
    "trainer = Trainer(\n",
    "    model=model,\n",
    "    args=training_args,\n",
    "    train_dataset=train_set,\n",
    "    eval_dataset=test_set,\n",
    "    compute_metrics=compute_metrics,\n",
    ")"
   ]
  },
  {
   "cell_type": "code",
   "execution_count": 6,
   "id": "0bdbc046-c24a-47a1-a47f-8fd42d1eb9ca",
   "metadata": {},
   "outputs": [
    {
     "name": "stderr",
     "output_type": "stream",
     "text": [
      "C:\\Users\\wangx\\miniconda3\\envs\\peft\\lib\\site-packages\\transformers\\models\\bert\\modeling_bert.py:435: UserWarning: 1Torch was not compiled with flash attention. (Triggered internally at C:\\cb\\pytorch_1000000000000\\work\\aten\\src\\ATen\\native\\transformers\\cuda\\sdp_utils.cpp:455.)\n",
      "  attn_output = torch.nn.functional.scaled_dot_product_attention(\n"
     ]
    },
    {
     "data": {
      "text/html": [
       "\n",
       "    <div>\n",
       "      \n",
       "      <progress value='65000' max='65000' style='width:300px; height:20px; vertical-align: middle;'></progress>\n",
       "      [65000/65000 13:16:40, Epoch 1/1]\n",
       "    </div>\n",
       "    <table border=\"1\" class=\"dataframe\">\n",
       "  <thead>\n",
       " <tr style=\"text-align: left;\">\n",
       "      <th>Step</th>\n",
       "      <th>Training Loss</th>\n",
       "      <th>Validation Loss</th>\n",
       "      <th>Accuracy</th>\n",
       "    </tr>\n",
       "  </thead>\n",
       "  <tbody>\n",
       "    <tr>\n",
       "      <td>13000</td>\n",
       "      <td>0.939500</td>\n",
       "      <td>0.872450</td>\n",
       "      <td>0.625620</td>\n",
       "    </tr>\n",
       "    <tr>\n",
       "      <td>26000</td>\n",
       "      <td>0.862400</td>\n",
       "      <td>0.831018</td>\n",
       "      <td>0.643120</td>\n",
       "    </tr>\n",
       "    <tr>\n",
       "      <td>39000</td>\n",
       "      <td>0.815200</td>\n",
       "      <td>0.773721</td>\n",
       "      <td>0.662100</td>\n",
       "    </tr>\n",
       "    <tr>\n",
       "      <td>52000</td>\n",
       "      <td>0.781800</td>\n",
       "      <td>0.757856</td>\n",
       "      <td>0.669680</td>\n",
       "    </tr>\n",
       "    <tr>\n",
       "      <td>65000</td>\n",
       "      <td>0.748000</td>\n",
       "      <td>0.736981</td>\n",
       "      <td>0.679300</td>\n",
       "    </tr>\n",
       "  </tbody>\n",
       "</table><p>"
      ],
      "text/plain": [
       "<IPython.core.display.HTML object>"
      ]
     },
     "metadata": {},
     "output_type": "display_data"
    }
   ],
   "source": [
    "trainer.train()\n",
    "trainer.save_model(model_trained_dir)\n",
    "trainer.save_state()"
   ]
  },
  {
   "cell_type": "code",
   "execution_count": null,
   "id": "be2428af-0bad-41ca-aa74-0f689f3ba86a",
   "metadata": {},
   "outputs": [],
   "source": []
  }
 ],
 "metadata": {
  "kernelspec": {
   "display_name": "Python 3 (ipykernel)",
   "language": "python",
   "name": "python3"
  },
  "language_info": {
   "codemirror_mode": {
    "name": "ipython",
    "version": 3
   },
   "file_extension": ".py",
   "mimetype": "text/x-python",
   "name": "python",
   "nbconvert_exporter": "python",
   "pygments_lexer": "ipython3",
   "version": "3.10.14"
  }
 },
 "nbformat": 4,
 "nbformat_minor": 5
}
