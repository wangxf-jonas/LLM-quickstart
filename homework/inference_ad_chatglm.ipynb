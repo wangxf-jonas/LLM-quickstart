{
 "cells": [
  {
   "cell_type": "markdown",
   "id": "ba9dcf02-249d-42fa-bd18-ec17ebc43a61",
   "metadata": {},
   "source": [
    "# 配置信息"
   ]
  },
  {
   "cell_type": "code",
   "execution_count": 1,
   "id": "1bb64646-b38d-42ed-b627-dabc7d95765c",
   "metadata": {},
   "outputs": [],
   "source": [
    "import torch\n",
    "from transformers import AutoModel, AutoTokenizer, BitsAndBytesConfig\n",
    "from peft import PeftModel, PeftConfig\n",
    "\n",
    "model_name_or_path = '/home/abc/mydisk/model/chatglm3-6b'  # 模型路径\n",
    "peft_model_path = \"/home/abc/mydisk/model/chatglm3-6b/out/checkpoint-5000/\"  # 微调模型路径\n",
    "training_tag=\"ChatGLM3-6B(checkpoint-5000, train_data: HasturOfficial/adgen, 20k/115k)\" # 微调情况"
   ]
  },
  {
   "cell_type": "code",
   "execution_count": 2,
   "id": "cf262144-13f2-4ec0-93eb-c0231dbfd283",
   "metadata": {},
   "outputs": [],
   "source": [
    "_compute_dtype_map = {\n",
    "    'fp32': torch.float32,\n",
    "    'fp16': torch.float16,\n",
    "    'bf16': torch.bfloat16\n",
    "}\n",
    "\n",
    "# QLoRA 量化配置\n",
    "q_config = BitsAndBytesConfig(load_in_4bit=True,\n",
    "                              bnb_4bit_quant_type='nf4',\n",
    "                              bnb_4bit_use_double_quant=True,\n",
    "                              bnb_4bit_compute_dtype=_compute_dtype_map['bf16'])\n",
    "\n",
    "config = PeftConfig.from_pretrained(peft_model_path)"
   ]
  },
  {
   "cell_type": "code",
   "execution_count": 3,
   "id": "77582f28-47d9-49f3-bcfc-d6d95e929a23",
   "metadata": {},
   "outputs": [
    {
     "data": {
      "application/vnd.jupyter.widget-view+json": {
       "model_id": "ea6322f6248e4d70b04f13c3678c8e6c",
       "version_major": 2,
       "version_minor": 0
      },
      "text/plain": [
       "Loading checkpoint shards:   0%|          | 0/7 [00:00<?, ?it/s]"
      ]
     },
     "metadata": {},
     "output_type": "display_data"
    },
    {
     "name": "stderr",
     "output_type": "stream",
     "text": [
      "Setting eos_token is not supported, use the default one.\n",
      "Setting pad_token is not supported, use the default one.\n",
      "Setting unk_token is not supported, use the default one.\n"
     ]
    },
    {
     "data": {
      "text/plain": [
       "ChatGLMForConditionalGeneration(\n",
       "  (transformer): ChatGLMModel(\n",
       "    (embedding): Embedding(\n",
       "      (word_embeddings): Embedding(65024, 4096)\n",
       "    )\n",
       "    (rotary_pos_emb): RotaryEmbedding()\n",
       "    (encoder): GLMTransformer(\n",
       "      (layers): ModuleList(\n",
       "        (0-27): 28 x GLMBlock(\n",
       "          (input_layernorm): RMSNorm()\n",
       "          (self_attention): SelfAttention(\n",
       "            (query_key_value): lora.Linear4bit(\n",
       "              (base_layer): Linear4bit(in_features=4096, out_features=4608, bias=True)\n",
       "              (lora_dropout): ModuleDict(\n",
       "                (default): Dropout(p=0.05, inplace=False)\n",
       "              )\n",
       "              (lora_A): ModuleDict(\n",
       "                (default): Linear(in_features=4096, out_features=8, bias=False)\n",
       "              )\n",
       "              (lora_B): ModuleDict(\n",
       "                (default): Linear(in_features=8, out_features=4608, bias=False)\n",
       "              )\n",
       "              (lora_embedding_A): ParameterDict()\n",
       "              (lora_embedding_B): ParameterDict()\n",
       "            )\n",
       "            (core_attention): CoreAttention(\n",
       "              (attention_dropout): Dropout(p=0.0, inplace=False)\n",
       "            )\n",
       "            (dense): Linear4bit(in_features=4096, out_features=4096, bias=False)\n",
       "          )\n",
       "          (post_attention_layernorm): RMSNorm()\n",
       "          (mlp): MLP(\n",
       "            (dense_h_to_4h): Linear4bit(in_features=4096, out_features=27392, bias=False)\n",
       "            (dense_4h_to_h): Linear4bit(in_features=13696, out_features=4096, bias=False)\n",
       "          )\n",
       "        )\n",
       "      )\n",
       "      (final_layernorm): RMSNorm()\n",
       "    )\n",
       "    (output_layer): Linear(in_features=4096, out_features=65024, bias=False)\n",
       "  )\n",
       ")"
      ]
     },
     "execution_count": 3,
     "metadata": {},
     "output_type": "execute_result"
    }
   ],
   "source": [
    "# 加载模型，tokenizer\n",
    "base_model = AutoModel.from_pretrained(model_name_or_path,\n",
    "                                      quantization_config=q_config,\n",
    "                                      device_map='auto',\n",
    "                                      trust_remote_code=True)\n",
    "\n",
    "qlora_model = PeftModel.from_pretrained(base_model, peft_model_path)\n",
    "tokenizer = AutoTokenizer.from_pretrained(model_name_or_path, trust_remote_code=True)\n",
    "\n",
    "base_model.requires_grad_(False)\n",
    "base_model.eval()"
   ]
  },
  {
   "cell_type": "code",
   "execution_count": 4,
   "id": "31c7abc3-d2c2-4fb2-b645-b64e7276baa0",
   "metadata": {},
   "outputs": [
    {
     "name": "stdout",
     "output_type": "stream",
     "text": [
      "Wed Jul 10 18:25:05 2024       \n",
      "+-----------------------------------------------------------------------------------------+\n",
      "| NVIDIA-SMI 550.90.07              Driver Version: 550.90.07      CUDA Version: 12.4     |\n",
      "|-----------------------------------------+------------------------+----------------------+\n",
      "| GPU  Name                 Persistence-M | Bus-Id          Disp.A | Volatile Uncorr. ECC |\n",
      "| Fan  Temp   Perf          Pwr:Usage/Cap |           Memory-Usage | GPU-Util  Compute M. |\n",
      "|                                         |                        |               MIG M. |\n",
      "|=========================================+========================+======================|\n",
      "|   0  NVIDIA A10                     Off |   00000000:00:08.0 Off |                    0 |\n",
      "|  0%   43C    P0             61W /  150W |    4302MiB /  23028MiB |      0%      Default |\n",
      "|                                         |                        |                  N/A |\n",
      "+-----------------------------------------+------------------------+----------------------+\n",
      "                                                                                         \n",
      "+-----------------------------------------------------------------------------------------+\n",
      "| Processes:                                                                              |\n",
      "|  GPU   GI   CI        PID   Type   Process name                              GPU Memory |\n",
      "|        ID   ID                                                               Usage      |\n",
      "|=========================================================================================|\n",
      "|    0   N/A  N/A      1928      G   /usr/lib/xorg/Xorg                              4MiB |\n",
      "|    0   N/A  N/A      5659      C   /usr/bin/python3                             4280MiB |\n",
      "+-----------------------------------------------------------------------------------------+\n"
     ]
    }
   ],
   "source": [
    "! nvidia-smi"
   ]
  },
  {
   "cell_type": "code",
   "execution_count": 5,
   "id": "7321ee03-c19b-4d10-b010-51b1bc11b77b",
   "metadata": {},
   "outputs": [],
   "source": [
    "# 比较方法，比较微调前后的结果\n",
    "def compare_chatglm_results(query, base_model, qlora_model, training_tag):\n",
    "    base_response, base_history = base_model.chat(tokenizer, query)\n",
    "\n",
    "    inputs = tokenizer(query, return_tensors=\"pt\").to(0)\n",
    "    ft_out = qlora_model.generate(**inputs, max_new_tokens=512)\n",
    "    ft_response = tokenizer.decode(ft_out[0], skip_special_tokens=True)\n",
    "    \n",
    "    print(f\"问题：{query}\\n\\n原始输出：\\n{base_response}\\n\\n\\n微调后（{training_tag}）：\\n{ft_response}\")\n",
    "    return base_response, ft_response"
   ]
  },
  {
   "cell_type": "markdown",
   "id": "7b8821df-6b57-44c4-ae50-2678be44959b",
   "metadata": {},
   "source": [
    "# 开始比较"
   ]
  },
  {
   "cell_type": "code",
   "execution_count": 6,
   "id": "2f070b2b-7ef4-4f77-adea-b42081d92ab8",
   "metadata": {},
   "outputs": [
    {
     "name": "stdout",
     "output_type": "stream",
     "text": [
      "问题：为这款裙子生成广告语。'类型#裙*版型#显瘦*材质#网纱*风格#性感*裙型#百褶*裙下摆#压褶*裙长#连衣裙*裙衣门襟#拉链*裙衣门襟#套头*裙款式#拼接*裙款式#拉链*裙款式#木耳边*裙款式#抽褶*裙款式#不规则'\n",
      "\n",
      "原始输出：\n",
      "这款网纱拼接套头连衣裙，时尚的木耳边装饰，尽显甜美可爱气息。不规则的压褶设计，打造时髦感。不规则的裙摆，展现纤细双腿。加上不规则的百褶裙摆，修身显瘦，更显女性气质。网纱百褶裙摆，时尚浪漫，性感迷人。精致的拉链设计，穿脱方便。\n",
      "\n",
      "\n",
      "微调后（ChatGLM3-6B(checkpoint-5000, train_data: HasturOfficial/adgen, 20k/115k)）：\n",
      "[gMASK] sop 为这款裙子生成广告语。'类型#裙*版型#显瘦*材质#网纱*风格#性感*裙型#百褶*裙下摆#压褶*裙长#连衣裙*裙衣门襟#拉链*裙衣门襟#套头*裙款式#拼接*裙款式#拉链*裙款式#木耳边*裙款式#抽褶*裙款式#不规则' 这款连衣裙采用网纱拼接，透视感十足，性感迷人。不规则的木耳边装饰，甜美可爱。拼接的压褶设计，层次感十足，修身显瘦。套头式设计，方便穿脱。百褶裙摆，飘逸灵动。拉链设计，方便穿脱。\n"
     ]
    }
   ],
   "source": [
    "base_response, ft_response = compare_chatglm_results(\"为这款裙子生成广告语。'类型#裙*版型#显瘦*材质#网纱*风格#性感*裙型#百褶*裙下摆#压褶*裙长#连衣裙*裙衣门襟#拉链*裙衣门襟#套头*裙款式#拼接*裙款式#拉链*裙款式#木耳边*裙款式#抽褶*裙款式#不规则'\", base_model, qlora_model, training_tag)"
   ]
  },
  {
   "cell_type": "code",
   "execution_count": 7,
   "id": "9e29ac62-f64f-4ee4-8311-0d3f744e1a6e",
   "metadata": {},
   "outputs": [
    {
     "name": "stdout",
     "output_type": "stream",
     "text": [
      "问题：我想买一条夏天穿的裙子，有什么好建议么\n",
      "\n",
      "原始输出：\n",
      "夏天穿衣要注重轻盈与透气，所以选择一款轻薄且透气的裙子是不错的选择。\n",
      "\n",
      "1. 颜色选择:\n",
      "\n",
      "裙子颜色选择上可以尝试选择明快的颜色，如粉色、蓝色、绿色等，明亮的颜色可以更好的展现活力感，轻松减龄。\n",
      "\n",
      "2. 材质选择:\n",
      "\n",
      "选择轻薄且透气的面料，如棉布、雪纺等，可以更好的营造夏日的清爽感。\n",
      "\n",
      "3. 款式选择:\n",
      "\n",
      "裙子款式选择上可以尝试选择轻便的款式，如吊带裙、裙裤等，更加轻松。\n",
      "\n",
      "4. 面料:\n",
      "\n",
      "雪纺、薄款棉布、化纤棉布等轻薄透气面料适合夏天穿着，垂感好，透气性好，柔软亲肤。\n",
      "\n",
      "\n",
      "微调后（ChatGLM3-6B(checkpoint-5000, train_data: HasturOfficial/adgen, 20k/115k)）：\n",
      "[gMASK] sop 我想买一条夏天穿的裙子，有什么好建议么? \n",
      " 夏天穿裙子是再正常不过的事情了，不过要选一条既好看又舒适的裙子，就有点难度了。下面是一些值得推荐的夏季裙子，希望对你有所帮助。\n",
      "\n",
      "1. 轻薄透气：夏季气温高，所以要选择布料柔软、透气性好的裙子，这样穿起来才舒适。像雪纺、薄棉布、化纤布等都是不错的选择。\n",
      "\n",
      "2. 颜色选择：夏季气温高，颜色选择要浅，这样看起来才清爽。浅色系的裙子会显得人更有活力，而且不显胖。深色系的裙子则显得沉稳，适合成熟的女性。\n",
      "\n",
      "3. 款式选择：夏季裙子要选择舒适、透气的款式，不要穿太紧身的裙子。吊带裙、裙摆宽松的裙子都是不错的选择，而且看起来很清爽。\n",
      "\n",
      "4. 材质选择：夏季气温高，要选择透气性好的面料，雪纺、薄棉布、化纤布都是不错的选择。\n"
     ]
    }
   ],
   "source": [
    "base_response, ft_response = compare_chatglm_results(\"我想买一条夏天穿的裙子，有什么好建议么\", base_model, qlora_model, training_tag)"
   ]
  },
  {
   "cell_type": "code",
   "execution_count": 8,
   "id": "796fe2be-e072-478d-9ecd-9ba7245b7252",
   "metadata": {},
   "outputs": [
    {
     "name": "stdout",
     "output_type": "stream",
     "text": [
      "问题：'类型#上衣*版型#显瘦*图案#刺绣*衣样式#衬衫*衣袖型#泡泡袖*衣款式#抽绳*风格#简约'\n",
      "\n",
      "原始输出：\n",
      "这款衬衫的设计非常独特，采用别致的泡泡袖设计，上身效果非常显瘦，彰显出甜美可爱的气质。加上简约大方的直筒版型，修饰身形。加上刺绣点缀，打破简约的风格，更显精致，穿着非常时尚。加上抽绳的设计，更是时尚个性。\n",
      "\n",
      "\n",
      "微调后（ChatGLM3-6B(checkpoint-5000, train_data: HasturOfficial/adgen, 20k/115k)）：\n",
      "[gMASK] sop '类型#上衣*版型#显瘦*图案#刺绣*衣样式#衬衫*衣袖型#泡泡袖*衣款式#抽绳*风格#简约' 简约的衬衫版型，上身效果干净利落，穿着舒适。袖子采用抽绳设计，可随意调节，穿着舒适。袖子采用刺绣设计，精致美观，彰显品质。泡泡袖设计，遮肉显瘦，穿着时尚。\n"
     ]
    }
   ],
   "source": [
    "base_response, ft_response = compare_chatglm_results(\"'类型#上衣*版型#显瘦*图案#刺绣*衣样式#衬衫*衣袖型#泡泡袖*衣款式#抽绳*风格#简约'\", base_model, qlora_model, training_tag)"
   ]
  },
  {
   "cell_type": "code",
   "execution_count": null,
   "id": "7819ae43-6b6b-407c-95e1-33023ce26265",
   "metadata": {},
   "outputs": [],
   "source": []
  }
 ],
 "metadata": {
  "kernelspec": {
   "display_name": "Python 3 (ipykernel)",
   "language": "python",
   "name": "python3"
  },
  "language_info": {
   "codemirror_mode": {
    "name": "ipython",
    "version": 3
   },
   "file_extension": ".py",
   "mimetype": "text/x-python",
   "name": "python",
   "nbconvert_exporter": "python",
   "pygments_lexer": "ipython3",
   "version": "3.10.12"
  }
 },
 "nbformat": 4,
 "nbformat_minor": 5
}
