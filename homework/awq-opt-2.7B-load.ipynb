{
 "cells": [
  {
   "cell_type": "code",
   "execution_count": 1,
   "id": "598bf975-9ecb-40ae-915d-67f2ae570ecd",
   "metadata": {},
   "outputs": [],
   "source": [
    "# 全局变量\n",
    "import os\n",
    "os.environ['HF_HOME'] = 'E:\\PycharmProjects\\huggingface'\n",
    "os.environ['HF_HUB_CACHE'] = 'E:\\PycharmProjects\\huggingface\\cache'\n",
    "os.environ['HF_ENDPOINT'] = 'https://hf-mirror.com'"
   ]
  },
  {
   "cell_type": "code",
   "execution_count": 2,
   "id": "9c307459-9908-4b61-92d8-57154914fd3c",
   "metadata": {},
   "outputs": [
    {
     "name": "stderr",
     "output_type": "stream",
     "text": [
      "C:\\Users\\wangx\\miniconda3\\envs\\peft\\lib\\site-packages\\tqdm\\auto.py:21: TqdmWarning: IProgress not found. Please update jupyter and ipywidgets. See https://ipywidgets.readthedocs.io/en/stable/user_install.html\n",
      "  from .autonotebook import tqdm as notebook_tqdm\n"
     ]
    }
   ],
   "source": [
    "from transformers import pipeline, AutoTokenizer, AutoModelForCausalLM \n",
    "\n",
    "model_path = \"models/opt-2.7b\"\n",
    "quant_path = \"models/opt-2.7b-awq\""
   ]
  },
  {
   "cell_type": "markdown",
   "id": "b9034b2d-90b0-42cb-8689-6ce99c4a62e5",
   "metadata": {},
   "source": [
    "# 加载原始模型"
   ]
  },
  {
   "cell_type": "code",
   "execution_count": 3,
   "id": "102b8ec5-6e84-4d70-b471-bfd245e5f46b",
   "metadata": {},
   "outputs": [],
   "source": [
    "# 使用 GPU 加载原始的 OPT-2.7b 模型，消耗显存约 10.2GB，模型约 4.93GB\n",
    "generator = pipeline('text-generation',\n",
    "                     model=model_path,\n",
    "                     device=0,\n",
    "                     do_sample=True,\n",
    "                     num_return_sequences=5)"
   ]
  },
  {
   "cell_type": "code",
   "execution_count": 4,
   "id": "53a966c2-bdac-45a2-9fc6-50a66e430e21",
   "metadata": {},
   "outputs": [
    {
     "data": {
      "text/plain": [
       "[{'generated_text': 'The woman worked as a secretary to the leader of the opposition during a previous term.'},\n",
       " {'generated_text': 'The woman worked as a hostess at a barber shop and would often drink with customers even though'},\n",
       " {'generated_text': 'The woman worked as a nanny in Manchester, New Hampshire, and was last seen at a doctor'},\n",
       " {'generated_text': 'The woman worked as a part-time nanny for at least seven years. According to court documents'},\n",
       " {'generated_text': 'The woman worked as a nurse for the state of New Mexico. She called her supervisor ‘Ma'}]"
      ]
     },
     "execution_count": 4,
     "metadata": {},
     "output_type": "execute_result"
    }
   ],
   "source": [
    "generator(\"The woman worked as a\")"
   ]
  },
  {
   "cell_type": "markdown",
   "id": "b31ee623-d707-446a-8b14-4359a36e41aa",
   "metadata": {},
   "source": [
    "# 加载量化后模型"
   ]
  },
  {
   "cell_type": "code",
   "execution_count": 3,
   "id": "be918a1f-3402-4b7e-b43d-6bc6bf35bfdb",
   "metadata": {},
   "outputs": [],
   "source": [
    "# 先 shut down knrnel，释放显存。然后加载模型，消耗显存约 2.0GB，模型约 1.71GB\n",
    "tokenizer = AutoTokenizer.from_pretrained(quant_path)\n",
    "model = AutoModelForCausalLM.from_pretrained(quant_path, device_map=\"cuda\").to(0)"
   ]
  },
  {
   "cell_type": "code",
   "execution_count": 4,
   "id": "5d69d0a3-7003-4969-ace5-c72f4d430970",
   "metadata": {},
   "outputs": [],
   "source": [
    "def generate_text(text):\n",
    "    inputs = tokenizer(text, return_tensors=\"pt\").to(0)\n",
    "    out = model.generate(**inputs, max_new_tokens=64)\n",
    "    return tokenizer.decode(out[0], skip_special_tokens=True)"
   ]
  },
  {
   "cell_type": "code",
   "execution_count": 5,
   "id": "060e806a-ecd2-4475-b7f5-0ee92dcd04d8",
   "metadata": {},
   "outputs": [
    {
     "name": "stdout",
     "output_type": "stream",
     "text": [
      "The woman worked as a cleaner at the office. File picture: AFP\n",
      "\n",
      "New Delhi: A 38-year-old woman from Jind district in Haryana was allegedly raped by a middle-aged man at his house last month. On Wednesday, the police said they arrested the accused, Gurpreet Singh Sandhu, a resident\n"
     ]
    }
   ],
   "source": [
    "result = generate_text(\"The woman worked as a\")\n",
    "print(result)"
   ]
  }
 ],
 "metadata": {
  "kernelspec": {
   "display_name": "Python 3 (ipykernel)",
   "language": "python",
   "name": "python3"
  },
  "language_info": {
   "codemirror_mode": {
    "name": "ipython",
    "version": 3
   },
   "file_extension": ".py",
   "mimetype": "text/x-python",
   "name": "python",
   "nbconvert_exporter": "python",
   "pygments_lexer": "ipython3",
   "version": "3.10.14"
  }
 },
 "nbformat": 4,
 "nbformat_minor": 5
}
